{
 "cells": [
  {
   "cell_type": "code",
   "execution_count": 1,
   "metadata": {},
   "outputs": [
    {
     "name": "stdout",
     "output_type": "stream",
     "text": [
      "Warning: Roundtrip module could not be loaded. Requires jupyter notebook version <= 7.x.\n"
     ]
    }
   ],
   "source": [
    "import sys\n",
    "sys.path.append(\"/scratch/group/csce435-f24/python-3.10.4/lib/python3.10/site-packages\")\n",
    "sys.path.append(\"/scratch/group/csce435-f24/thicket\")\n",
    "from glob import glob\n",
    "\n",
    "import matplotlib.pyplot as plt\n",
    "import pandas as pd\n",
    "\n",
    "import thicket as th\n",
    "\n",
    "pd.set_option(\"display.max_rows\", None)\n",
    "pd.set_option(\"display.max_columns\", None)"
   ]
  },
  {
   "cell_type": "markdown",
   "metadata": {},
   "source": [
    "Read all files"
   ]
  },
  {
   "cell_type": "code",
   "execution_count": null,
   "metadata": {},
   "outputs": [],
   "source": [
    "#1_trial is a name of a folder containing the cali files, you may create a folder with a different name and replace the folder name here\n",
    "tk = th.Thicket.from_caliperreader(glob(\"caliper_files/*.cali\"))"
   ]
  },
  {
   "cell_type": "markdown",
   "metadata": {},
   "source": [
    "View Calltree"
   ]
  },
  {
   "cell_type": "code",
   "execution_count": null,
   "metadata": {},
   "outputs": [],
   "source": [
    "print(tk.tree(metric_column=\"Avg time/rank\"))"
   ]
  },
  {
   "cell_type": "markdown",
   "metadata": {},
   "source": [
    "Group Performance data by `matrix_size` in the Thicket metadata table."
   ]
  },
  {
   "cell_type": "code",
   "execution_count": null,
   "metadata": {},
   "outputs": [],
   "source": [
    "tk.metadata_column_to_perfdata(\"input_size\")\n",
    "tk.metadata_column_to_perfdata(\"num_procs\")\n",
    "tk.metadata_column_to_perfdata(\"input_type\")\n",
    "\n",
    "tk.dataframe = tk.dataframe.reset_index().set_index([\"node\",\"input_size\", \"num_procs\", \"input_type\" ]).sort_index()\n",
    "\n",
    "tk.dataframe.head()"
   ]
  },
  {
   "cell_type": "code",
   "execution_count": 23,
   "metadata": {},
   "outputs": [],
   "source": [
    "# Define common variables\n",
    "processes = [2, 4, 8, 16, 32, 64, 128, 256, 512, 1024]\n",
    "input_sizes = [18, 20, 22, 24, 26, 28]\n",
    "input_types = [\"sorted\", \"random\", \"perturbed\"]"
   ]
  },
  {
   "cell_type": "code",
   "execution_count": null,
   "metadata": {},
   "outputs": [],
   "source": [
    "# Change font size for all plots\n",
    "plt.rcParams.update({\"font.size\": 20})"
   ]
  },
  {
   "cell_type": "code",
   "execution_count": null,
   "metadata": {},
   "outputs": [],
   "source": [
    "for node in tk.graph.traverse():\n",
    "    df = tk.dataframe.loc[node, [\"Min time/rank\",\"Max time/rank\",\"Avg time/rank\"]]\n",
    "    #print(node.frame[\"name\"])\n",
    "    for mat_size in input_sizes:\n",
    "        #print(df.loc[mat_size])\n",
    "        #print(df.loc[mat_size,[\"Min time/rank\",\"Max time/rank\",\"Avg time/rank\"]])\n",
    "        plt.plot(df.loc[mat_size,input_types,\"Avg time/rank\"])\n",
    "        plt.ylabel(\"time(sec)\")\n",
    "        plt.xlabel(\"processors\")\n",
    "        plt.title(node.frame[\"name\"] + \" with matrix size: \" + str(mat_size))\n",
    "        plt.legend([\"Min time/rank\",\"Max time/rank\",\"Avg time/rank\"]) \n",
    "        plt.savefig(\"graphs/\"+node.frame[\"name\"] + \"_\" + str(mat_size)+\".png\")\n",
    "        plt.show()"
   ]
  }
 ],
 "metadata": {
  "kernelspec": {
   "display_name": "Python 3 (ipykernel)",
   "language": "python",
   "name": "python3"
  },
  "language_info": {
   "codemirror_mode": {
    "name": "ipython",
    "version": 3
   },
   "file_extension": ".py",
   "mimetype": "text/x-python",
   "name": "python",
   "nbconvert_exporter": "python",
   "pygments_lexer": "ipython3",
   "version": "3.10.4"
  }
 },
 "nbformat": 4,
 "nbformat_minor": 4
}
